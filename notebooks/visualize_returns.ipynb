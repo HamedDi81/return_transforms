{
 "cells": [
  {
   "cell_type": "code",
   "execution_count": 1,
   "metadata": {},
   "outputs": [
    {
     "name": "stderr",
     "output_type": "stream",
     "text": [
      "/scratch/ssd004/home/keirp/Documents/esper_envs/esper_envs/samplers/trajectory_sampler.py:4: TqdmExperimentalWarning: Using `tqdm.autonotebook.tqdm` in notebook mode. Use `tqdm.tqdm` instead to force console mode (e.g. in jupyter console)\n",
      "  from tqdm.autonotebook import tqdm\n"
     ]
    },
    {
     "name": "stdout",
     "output_type": "stream",
     "text": [
      "Dataset file found. Loading existing trajectories.\n"
     ]
    }
   ],
   "source": [
    "import pickle\n",
    "\n",
    "from esper_envs.envs.offline_envs.connect_four_offline_env import ConnectFourOfflineEnv\n",
    "from esper_envs.envs.connect_four.connect_four_env import GridWrapper\n",
    "# TODO: env should just deal with this automatically\n",
    "c4_ds_path = '../../esper_envs/offline_data/c4data_mdp.ds'\n",
    "c4_exec_dir = '../../esper_envs/connect4'\n",
    "task = ConnectFourOfflineEnv(c4_ds_path, exec_dir=c4_exec_dir)\n",
    "env = task.env_cls()\n",
    "env = GridWrapper(env)\n",
    "trajs = task.trajs\n",
    "for traj in trajs:\n",
    "    for i in range(len(traj.obs)):\n",
    "        traj.obs[i] = traj.obs[i]['grid']"
   ]
  },
  {
   "cell_type": "code",
   "execution_count": 2,
   "metadata": {},
   "outputs": [
    {
     "name": "stdout",
     "output_type": "stream",
     "text": [
      "connect_four.ret  gambling.ret\n"
     ]
    }
   ],
   "source": [
    "! ls ../data"
   ]
  },
  {
   "cell_type": "code",
   "execution_count": 3,
   "metadata": {},
   "outputs": [],
   "source": [
    "# Load rets from pickle\n",
    "with open('../data/connect_four.ret', 'rb') as f:\n",
    "    rets = pickle.load(f)"
   ]
  },
  {
   "cell_type": "code",
   "execution_count": 4,
   "metadata": {},
   "outputs": [],
   "source": [
    "%matplotlib inline\n",
    "import matplotlib.pyplot as plt\n",
    "\n",
    "import numpy as np"
   ]
  },
  {
   "cell_type": "code",
   "execution_count": 6,
   "metadata": {},
   "outputs": [
    {
     "data": {
      "image/png": "[encoded data removed]",
      "text/plain": [
       "<Figure size 432x288 with 1 Axes>"
      ]
     },
     "metadata": {
      "needs_background": "light"
     },
     "output_type": "display_data"
    }
   ],
   "source": [
    "# Plot a histogram of the returns for the first timesteps\n",
    "plt.hist([r[0] for r in rets], bins=10);"
   ]
  },
  {
   "cell_type": "code",
   "execution_count": 7,
   "metadata": {},
   "outputs": [],
   "source": [
    "from return_transforms.utils.utils import return_labels"
   ]
  },
  {
   "cell_type": "code",
   "execution_count": 9,
   "metadata": {},
   "outputs": [],
   "source": [
    "original_rets = [return_labels(traj) for traj in trajs]"
   ]
  },
  {
   "cell_type": "code",
   "execution_count": 10,
   "metadata": {},
   "outputs": [
    {
     "data": {
      "image/png": "[encoded data removed]",
      "text/plain": [
       "<Figure size 432x288 with 1 Axes>"
      ]
     },
     "metadata": {
      "needs_background": "light"
     },
     "output_type": "display_data"
    }
   ],
   "source": [
    "plt.hist([r[0] for r in original_rets], bins=10);"
   ]
  },
  {
   "cell_type": "code",
   "execution_count": null,
   "metadata": {},
   "outputs": [],
   "source": []
  }
 ],
 "metadata": {
  "kernelspec": {
   "display_name": "Python 3.8.12 64-bit ('gv2')",
   "language": "python",
   "name": "python3"
  },
  "language_info": {
   "codemirror_mode": {
    "name": "ipython",
    "version": 3
   },
   "file_extension": ".py",
   "mimetype": "text/x-python",
   "name": "python",
   "nbconvert_exporter": "python",
   "pygments_lexer": "ipython3",
   "version": "3.8.12"
  },
  "orig_nbformat": 4,
  "vscode": {
   "interpreter": {
    "hash": "f272fe55a377753b732a007f7e3be29c56f3182573f8738296090c33784971c7"
   }
  }
 },
 "nbformat": 4,
 "nbformat_minor": 2
}
